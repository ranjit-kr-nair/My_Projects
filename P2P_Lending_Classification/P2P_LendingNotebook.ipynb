{
 "cells": [
  {
   "cell_type": "code",
   "execution_count": 1,
   "metadata": {},
   "outputs": [],
   "source": [
    "%matplotlib inline\n",
    "import numpy as np\n",
    "import pandas as pd\n",
    "from sklearn.dummy import DummyClassifier\n",
    "from sklearn.ensemble import RandomForestClassifier\n",
    "from sklearn.neighbors import KNeighborsClassifier\n",
    "from sklearn.svm import SVC\n",
    "from sklearn.model_selection import train_test_split, GridSearchCV\n",
    "from sklearn.metrics import accuracy_score, f1_score, recall_score, precision_score, confusion_matrix\n",
    "from imblearn.over_sampling import SMOTE\n",
    "import matplotlib.pyplot as plt\n",
    "import seaborn as sns"
   ]
  },
  {
   "cell_type": "code",
   "execution_count": 2,
   "metadata": {},
   "outputs": [],
   "source": [
    "#Seeding so that we get consistent results\n",
    "np.random.seed(42)\n",
    "sns.set()"
   ]
  },
  {
   "cell_type": "code",
   "execution_count": 3,
   "metadata": {},
   "outputs": [
    {
     "data": {
      "text/plain": [
       "(55071, 15)"
      ]
     },
     "execution_count": 3,
     "metadata": {},
     "output_type": "execute_result"
    }
   ],
   "source": [
    "df = pd.read_csv( \"Data.csv\" )\n",
    "df.shape"
   ]
  },
  {
   "cell_type": "code",
   "execution_count": 4,
   "metadata": {},
   "outputs": [
    {
     "data": {
      "text/html": [
       "<div>\n",
       "<style scoped>\n",
       "    .dataframe tbody tr th:only-of-type {\n",
       "        vertical-align: middle;\n",
       "    }\n",
       "\n",
       "    .dataframe tbody tr th {\n",
       "        vertical-align: top;\n",
       "    }\n",
       "\n",
       "    .dataframe thead th {\n",
       "        text-align: right;\n",
       "    }\n",
       "</style>\n",
       "<table border=\"1\" class=\"dataframe\">\n",
       "  <thead>\n",
       "    <tr style=\"text-align: right;\">\n",
       "      <th></th>\n",
       "      <th>Unnamed: 0</th>\n",
       "      <th>activity</th>\n",
       "      <th>borrower_genders</th>\n",
       "      <th>country</th>\n",
       "      <th>country_code</th>\n",
       "      <th>currency_policy</th>\n",
       "      <th>distribution_model</th>\n",
       "      <th>lender_count</th>\n",
       "      <th>loan_amount</th>\n",
       "      <th>original_language</th>\n",
       "      <th>repayment_interval</th>\n",
       "      <th>sector</th>\n",
       "      <th>status</th>\n",
       "      <th>term_in_months</th>\n",
       "      <th>rMPI</th>\n",
       "    </tr>\n",
       "  </thead>\n",
       "  <tbody>\n",
       "    <tr>\n",
       "      <th>0</th>\n",
       "      <td>1</td>\n",
       "      <td>Fruits &amp; Vegetables</td>\n",
       "      <td>female</td>\n",
       "      <td>Nicaragua</td>\n",
       "      <td>NI</td>\n",
       "      <td>shared</td>\n",
       "      <td>field_partner</td>\n",
       "      <td>12</td>\n",
       "      <td>525</td>\n",
       "      <td>Spanish</td>\n",
       "      <td>irregular</td>\n",
       "      <td>Food</td>\n",
       "      <td>funded</td>\n",
       "      <td>1 Year</td>\n",
       "      <td>0.161</td>\n",
       "    </tr>\n",
       "    <tr>\n",
       "      <th>1</th>\n",
       "      <td>2</td>\n",
       "      <td>Retail</td>\n",
       "      <td>female</td>\n",
       "      <td>Kenya</td>\n",
       "      <td>KE</td>\n",
       "      <td>shared</td>\n",
       "      <td>field_partner</td>\n",
       "      <td>20</td>\n",
       "      <td>600</td>\n",
       "      <td>English</td>\n",
       "      <td>monthly</td>\n",
       "      <td>Retail</td>\n",
       "      <td>funded</td>\n",
       "      <td>14</td>\n",
       "      <td>0.223</td>\n",
       "    </tr>\n",
       "    <tr>\n",
       "      <th>2</th>\n",
       "      <td>3</td>\n",
       "      <td>Food Production/Sales</td>\n",
       "      <td>female</td>\n",
       "      <td>Nigeria</td>\n",
       "      <td>NG</td>\n",
       "      <td>not shared</td>\n",
       "      <td>field_partner</td>\n",
       "      <td>33</td>\n",
       "      <td>1200</td>\n",
       "      <td>English</td>\n",
       "      <td>monthly</td>\n",
       "      <td>Food</td>\n",
       "      <td>funded</td>\n",
       "      <td>10</td>\n",
       "      <td>0.107</td>\n",
       "    </tr>\n",
       "    <tr>\n",
       "      <th>3</th>\n",
       "      <td>4</td>\n",
       "      <td>Consumer Goods</td>\n",
       "      <td>female</td>\n",
       "      <td>Philippines</td>\n",
       "      <td>PH</td>\n",
       "      <td>shared</td>\n",
       "      <td>field_partner</td>\n",
       "      <td>7</td>\n",
       "      <td>175</td>\n",
       "      <td>English</td>\n",
       "      <td>irregular</td>\n",
       "      <td>Personal Use</td>\n",
       "      <td>funded</td>\n",
       "      <td>8</td>\n",
       "      <td>0.039</td>\n",
       "    </tr>\n",
       "    <tr>\n",
       "      <th>4</th>\n",
       "      <td>5</td>\n",
       "      <td>Grocery Store</td>\n",
       "      <td>female</td>\n",
       "      <td>Mongolia</td>\n",
       "      <td>MN</td>\n",
       "      <td>shared</td>\n",
       "      <td>field_partner</td>\n",
       "      <td>46</td>\n",
       "      <td>1225</td>\n",
       "      <td>English</td>\n",
       "      <td>monthly</td>\n",
       "      <td>Food</td>\n",
       "      <td>funded</td>\n",
       "      <td>20</td>\n",
       "      <td>0.006</td>\n",
       "    </tr>\n",
       "  </tbody>\n",
       "</table>\n",
       "</div>"
      ],
      "text/plain": [
       "   Unnamed: 0               activity borrower_genders      country  \\\n",
       "0           1    Fruits & Vegetables           female    Nicaragua   \n",
       "1           2                 Retail           female        Kenya   \n",
       "2           3  Food Production/Sales           female      Nigeria   \n",
       "3           4         Consumer Goods           female  Philippines   \n",
       "4           5          Grocery Store           female     Mongolia   \n",
       "\n",
       "  country_code currency_policy distribution_model  lender_count  loan_amount  \\\n",
       "0           NI          shared      field_partner            12          525   \n",
       "1           KE          shared      field_partner            20          600   \n",
       "2           NG      not shared      field_partner            33         1200   \n",
       "3           PH          shared      field_partner             7          175   \n",
       "4           MN          shared      field_partner            46         1225   \n",
       "\n",
       "  original_language repayment_interval        sector  status term_in_months  \\\n",
       "0           Spanish          irregular          Food  funded         1 Year   \n",
       "1           English            monthly        Retail  funded             14   \n",
       "2           English            monthly          Food  funded             10   \n",
       "3           English          irregular  Personal Use  funded              8   \n",
       "4           English            monthly          Food  funded             20   \n",
       "\n",
       "    rMPI  \n",
       "0  0.161  \n",
       "1  0.223  \n",
       "2  0.107  \n",
       "3  0.039  \n",
       "4  0.006  "
      ]
     },
     "execution_count": 4,
     "metadata": {},
     "output_type": "execute_result"
    }
   ],
   "source": [
    "df.head()"
   ]
  },
  {
   "cell_type": "code",
   "execution_count": 5,
   "metadata": {},
   "outputs": [],
   "source": [
    "#Dropping the Unnamed Column\n",
    "\n",
    "df.drop( df.columns[[0]], axis=1, inplace=True )"
   ]
  },
  {
   "cell_type": "code",
   "execution_count": 6,
   "metadata": {
    "scrolled": false
   },
   "outputs": [
    {
     "name": "stdout",
     "output_type": "stream",
     "text": [
      "<class 'pandas.core.frame.DataFrame'>\n",
      "RangeIndex: 55071 entries, 0 to 55070\n",
      "Data columns (total 14 columns):\n",
      " #   Column              Non-Null Count  Dtype  \n",
      "---  ------              --------------  -----  \n",
      " 0   activity            55071 non-null  object \n",
      " 1   borrower_genders    55062 non-null  object \n",
      " 2   country             55071 non-null  object \n",
      " 3   country_code        55071 non-null  object \n",
      " 4   currency_policy     55071 non-null  object \n",
      " 5   distribution_model  55071 non-null  object \n",
      " 6   lender_count        55071 non-null  int64  \n",
      " 7   loan_amount         55071 non-null  int64  \n",
      " 8   original_language   55071 non-null  object \n",
      " 9   repayment_interval  55071 non-null  object \n",
      " 10  sector              55071 non-null  object \n",
      " 11  status              55071 non-null  object \n",
      " 12  term_in_months      55071 non-null  object \n",
      " 13  rMPI                55071 non-null  float64\n",
      "dtypes: float64(1), int64(2), object(11)\n",
      "memory usage: 5.9+ MB\n"
     ]
    }
   ],
   "source": [
    "df.info()\n",
    "\n",
    "#We can see that the column borrower_genders consists 9 null values."
   ]
  },
  {
   "cell_type": "code",
   "execution_count": 7,
   "metadata": {},
   "outputs": [
    {
     "name": "stdout",
     "output_type": "stream",
     "text": [
      "<class 'pandas.core.frame.DataFrame'>\n",
      "Int64Index: 55062 entries, 0 to 55070\n",
      "Data columns (total 14 columns):\n",
      " #   Column              Non-Null Count  Dtype  \n",
      "---  ------              --------------  -----  \n",
      " 0   activity            55062 non-null  object \n",
      " 1   borrower_genders    55062 non-null  object \n",
      " 2   country             55062 non-null  object \n",
      " 3   country_code        55062 non-null  object \n",
      " 4   currency_policy     55062 non-null  object \n",
      " 5   distribution_model  55062 non-null  object \n",
      " 6   lender_count        55062 non-null  int64  \n",
      " 7   loan_amount         55062 non-null  int64  \n",
      " 8   original_language   55062 non-null  object \n",
      " 9   repayment_interval  55062 non-null  object \n",
      " 10  sector              55062 non-null  object \n",
      " 11  status              55062 non-null  object \n",
      " 12  term_in_months      55062 non-null  object \n",
      " 13  rMPI                55062 non-null  float64\n",
      "dtypes: float64(1), int64(2), object(11)\n",
      "memory usage: 6.3+ MB\n"
     ]
    }
   ],
   "source": [
    "#Droppping null values as they are negligible.\n",
    "\n",
    "df.dropna( inplace=True )\n",
    "df.info()"
   ]
  },
  {
   "cell_type": "markdown",
   "metadata": {},
   "source": [
    "# __1)__ Top 10 types of activities for which loan was requested. "
   ]
  },
  {
   "cell_type": "code",
   "execution_count": 8,
   "metadata": {},
   "outputs": [
    {
     "data": {
      "text/plain": [
       "General Store                4771\n",
       "Farming                      4655\n",
       "Retail                       3009\n",
       "Clothing Sales               2559\n",
       "Personal Housing Expenses    2550\n",
       "Food Production/Sales        2247\n",
       "Agriculture                  1831\n",
       "Grocery Store                1714\n",
       "Home Appliances              1582\n",
       "Pigs                         1449\n",
       "Name: activity, dtype: int64"
      ]
     },
     "execution_count": 8,
     "metadata": {},
     "output_type": "execute_result"
    }
   ],
   "source": [
    "df.activity.value_counts()[:10]"
   ]
  },
  {
   "cell_type": "markdown",
   "metadata": {},
   "source": [
    "# __2)__ Distribution of Loan by Gender or Group "
   ]
  },
  {
   "cell_type": "code",
   "execution_count": 9,
   "metadata": {},
   "outputs": [
    {
     "data": {
      "text/plain": [
       "female    33698\n",
       "male      13178\n",
       "group      8186\n",
       "Name: borrower_genders, dtype: int64"
      ]
     },
     "execution_count": 9,
     "metadata": {},
     "output_type": "execute_result"
    }
   ],
   "source": [
    "df.borrower_genders.value_counts()"
   ]
  },
  {
   "cell_type": "markdown",
   "metadata": {},
   "source": [
    "# __3)__ Top 10 Countries in Which Loan was Disbursed "
   ]
  },
  {
   "cell_type": "code",
   "execution_count": 10,
   "metadata": {},
   "outputs": [
    {
     "data": {
      "text/plain": [
       "Philippines    9654\n",
       "Cambodia       5166\n",
       "Kenya          5130\n",
       "Nicaragua      3755\n",
       "Peru           3655\n",
       "El Salvador    3321\n",
       "Tajikistan     2159\n",
       "Colombia       1941\n",
       "Uganda         1837\n",
       "Nigeria        1814\n",
       "Name: country, dtype: int64"
      ]
     },
     "execution_count": 10,
     "metadata": {},
     "output_type": "execute_result"
    }
   ],
   "source": [
    "df.country.value_counts()[:10]"
   ]
  },
  {
   "cell_type": "markdown",
   "metadata": {},
   "source": [
    "# __4)__ Distribution of Loan by Currency Policy"
   ]
  },
  {
   "cell_type": "code",
   "execution_count": 11,
   "metadata": {
    "scrolled": true
   },
   "outputs": [
    {
     "data": {
      "text/plain": [
       "shared        42908\n",
       "not shared    12154\n",
       "Name: currency_policy, dtype: int64"
      ]
     },
     "execution_count": 11,
     "metadata": {},
     "output_type": "execute_result"
    }
   ],
   "source": [
    "df.currency_policy.value_counts()"
   ]
  },
  {
   "cell_type": "markdown",
   "metadata": {},
   "source": [
    "# __5)__ Loan Distribution Models "
   ]
  },
  {
   "cell_type": "code",
   "execution_count": 12,
   "metadata": {},
   "outputs": [
    {
     "data": {
      "text/plain": [
       "field_partner    55062\n",
       "Name: distribution_model, dtype: int64"
      ]
     },
     "execution_count": 12,
     "metadata": {},
     "output_type": "execute_result"
    }
   ],
   "source": [
    "df.distribution_model.value_counts()"
   ]
  },
  {
   "cell_type": "markdown",
   "metadata": {},
   "source": [
    "# __6)__ Ten most Popular Lender Counts for the Loans Distributed"
   ]
  },
  {
   "cell_type": "code",
   "execution_count": 13,
   "metadata": {},
   "outputs": [
    {
     "data": {
      "text/plain": [
       "8     2525\n",
       "7     2437\n",
       "10    2389\n",
       "9     2385\n",
       "5     2365\n",
       "6     2278\n",
       "11    1972\n",
       "12    1948\n",
       "4     1928\n",
       "13    1813\n",
       "Name: lender_count, dtype: int64"
      ]
     },
     "execution_count": 13,
     "metadata": {},
     "output_type": "execute_result"
    }
   ],
   "source": [
    "df.lender_count.value_counts()[:10]"
   ]
  },
  {
   "cell_type": "markdown",
   "metadata": {},
   "source": [
    "# __7)__ Ten most Popular Loan Amounts for the Loans Distributed"
   ]
  },
  {
   "cell_type": "code",
   "execution_count": 14,
   "metadata": {
    "scrolled": true
   },
   "outputs": [
    {
     "data": {
      "text/plain": [
       "1000    2555\n",
       "500     2457\n",
       "250     2124\n",
       "300     2122\n",
       "200     2017\n",
       "400     1681\n",
       "600     1677\n",
       "225     1660\n",
       "125     1640\n",
       "350     1564\n",
       "Name: loan_amount, dtype: int64"
      ]
     },
     "execution_count": 14,
     "metadata": {},
     "output_type": "execute_result"
    }
   ],
   "source": [
    "df.loan_amount.value_counts()[:10]"
   ]
  },
  {
   "cell_type": "markdown",
   "metadata": {},
   "source": [
    "# __8)__ Distribution of Languages in which Loan Form was Filled"
   ]
  },
  {
   "cell_type": "code",
   "execution_count": 15,
   "metadata": {},
   "outputs": [
    {
     "data": {
      "text/plain": [
       "English       34525\n",
       "Spanish       15911\n",
       "French         3046\n",
       "Russian        1280\n",
       "Portuguese      118\n",
       "Vietnamese       99\n",
       "Indonesian       59\n",
       "Arabic           24\n",
       "Name: original_language, dtype: int64"
      ]
     },
     "execution_count": 15,
     "metadata": {},
     "output_type": "execute_result"
    }
   ],
   "source": [
    "df.original_language.value_counts()"
   ]
  },
  {
   "cell_type": "markdown",
   "metadata": {},
   "source": [
    "# __9)__ Distribution of Repayment Intervals for Loans Disbursed"
   ]
  },
  {
   "cell_type": "code",
   "execution_count": 16,
   "metadata": {},
   "outputs": [
    {
     "data": {
      "text/plain": [
       "monthly      31723\n",
       "irregular    18538\n",
       "bullet        4801\n",
       "Name: repayment_interval, dtype: int64"
      ]
     },
     "execution_count": 16,
     "metadata": {},
     "output_type": "execute_result"
    }
   ],
   "source": [
    "df.repayment_interval.value_counts()"
   ]
  },
  {
   "cell_type": "markdown",
   "metadata": {},
   "source": [
    "# __10)__ Distribution of Loans Disbursed Sectors"
   ]
  },
  {
   "cell_type": "code",
   "execution_count": 17,
   "metadata": {},
   "outputs": [
    {
     "data": {
      "text/plain": [
       "Food              12161\n",
       "Retail            11944\n",
       "Agriculture       11439\n",
       "Services           3821\n",
       "Clothing           3443\n",
       "Personal Use       2941\n",
       "Housing            2691\n",
       "Education          1883\n",
       "Transportation     1555\n",
       "Arts               1038\n",
       "Construction        806\n",
       "Health              618\n",
       "Manufacturing       566\n",
       "Wholesale            78\n",
       "Entertainment        78\n",
       "Name: sector, dtype: int64"
      ]
     },
     "execution_count": 17,
     "metadata": {},
     "output_type": "execute_result"
    }
   ],
   "source": [
    "df.sector.value_counts()"
   ]
  },
  {
   "cell_type": "markdown",
   "metadata": {},
   "source": [
    "# __11)__ Distribution of the Funding Status of the Loan"
   ]
  },
  {
   "cell_type": "code",
   "execution_count": 18,
   "metadata": {
    "scrolled": true
   },
   "outputs": [
    {
     "name": "stdout",
     "output_type": "stream",
     "text": [
      "0.13990559788009274\n"
     ]
    }
   ],
   "source": [
    "x = df.status.value_counts()[1]\n",
    "y = df.status.value_counts()[0]\n",
    "\n",
    "print( x/y )"
   ]
  },
  {
   "cell_type": "markdown",
   "metadata": {},
   "source": [
    "# __12)__ Top 10 Duration in Months for Which the Loan was Disbursed"
   ]
  },
  {
   "cell_type": "code",
   "execution_count": 19,
   "metadata": {
    "scrolled": true
   },
   "outputs": [
    {
     "data": {
      "text/plain": [
       "14        13629\n",
       "8         10179\n",
       "7          3310\n",
       "6          3040\n",
       "15         2896\n",
       "20         2827\n",
       "11         2610\n",
       "1 Year     2558\n",
       "10         2515\n",
       "13         2177\n",
       "Name: term_in_months, dtype: int64"
      ]
     },
     "execution_count": 19,
     "metadata": {},
     "output_type": "execute_result"
    }
   ],
   "source": [
    "df.term_in_months.value_counts()[:10]"
   ]
  },
  {
   "cell_type": "markdown",
   "metadata": {},
   "source": [
    "# We can see that the Loan Amount and the Number of Lenders are Correlated "
   ]
  },
  {
   "cell_type": "code",
   "execution_count": 20,
   "metadata": {
    "scrolled": true
   },
   "outputs": [
    {
     "data": {
      "image/png": "[encoded data removed]",
      "text/plain": [
       "<Figure size 540x540 with 12 Axes>"
      ]
     },
     "metadata": {},
     "output_type": "display_data"
    }
   ],
   "source": [
    "_ = sns.pairplot(df)"
   ]
  },
  {
   "cell_type": "code",
   "execution_count": 21,
   "metadata": {},
   "outputs": [
    {
     "name": "stdout",
     "output_type": "stream",
     "text": [
      "[[1.         0.86796947]\n",
      " [0.86796947 1.        ]]\n"
     ]
    },
    {
     "data": {
      "image/png": "[encoded data removed]",
      "text/plain": [
       "<Figure size 432x288 with 1 Axes>"
      ]
     },
     "metadata": {},
     "output_type": "display_data"
    }
   ],
   "source": [
    "_ = sns.regplot( df.lender_count, df.loan_amount )\n",
    "_ = plt.xlabel( \"Number of Lenders\" )\n",
    "_ = plt.ylabel( \"Loan Amount\" )\n",
    "_ = plt.title( \"Loan Amount vs Number of Lenders\" )\n",
    "\n",
    "print( np.corrcoef( df.lender_count, df.loan_amount ) )"
   ]
  },
  {
   "cell_type": "markdown",
   "metadata": {},
   "source": [
    "### In the above Pairplot we can see that the loan amount and lender count are positively correlated"
   ]
  },
  {
   "cell_type": "code",
   "execution_count": 22,
   "metadata": {},
   "outputs": [
    {
     "name": "stdout",
     "output_type": "stream",
     "text": [
      "The average funding percentage is: 87.73%\n"
     ]
    }
   ],
   "source": [
    "#Trying to find the percentage of loans funded on an average\n",
    "\n",
    "funded = df.status.value_counts().values[0]\n",
    "not_funded = df.status.value_counts().values[1]\n",
    "total = funded + not_funded\n",
    "funding_percentage = funded / total * 100\n",
    "\n",
    "print( f\"The average funding percentage is: {round(funding_percentage, 2)}%\" )"
   ]
  },
  {
   "cell_type": "code",
   "execution_count": 23,
   "metadata": {},
   "outputs": [],
   "source": [
    "#A function that calculates the funding percentage for a given dataset\n",
    "\n",
    "def funding_percentage( data ):\n",
    "    funded = data.status.value_counts().values[0]\n",
    "    try:\n",
    "        not_funded = data.status.value_counts().values[1]\n",
    "    except:\n",
    "        not_funded = 0\n",
    "    total = funded + not_funded\n",
    "    funding_percentage = funded / total * 100\n",
    "    \n",
    "    return round(funding_percentage, 1)"
   ]
  },
  {
   "cell_type": "markdown",
   "metadata": {},
   "source": [
    "# Finding the funding percentage for various Languages"
   ]
  },
  {
   "cell_type": "code",
   "execution_count": 24,
   "metadata": {
    "scrolled": true
   },
   "outputs": [
    {
     "name": "stdout",
     "output_type": "stream",
     "text": [
      "The funding percentage for Spanish language is: 80.9%\n",
      "The funding percentage for English language is: 90.8%\n",
      "The funding percentage for French language is: 94.2%\n",
      "The funding percentage for Russian language is: 73.2%\n"
     ]
    }
   ],
   "source": [
    "for language in df[\"original_language\"].unique():\n",
    "    lang_df = df[ df[\"original_language\"] == language ]\n",
    "    \n",
    "    if len(lang_df) >= 1000:\n",
    "        print( f\"The funding percentage for {language} language is: {funding_percentage( lang_df )}%\" )"
   ]
  },
  {
   "cell_type": "markdown",
   "metadata": {},
   "source": [
    "# Finding the funding percentage for various Genders"
   ]
  },
  {
   "cell_type": "code",
   "execution_count": 25,
   "metadata": {
    "scrolled": true
   },
   "outputs": [
    {
     "name": "stdout",
     "output_type": "stream",
     "text": [
      "The funding percentage for female group is: 92.0\n",
      "The funding percentage for group group is: 91.0\n",
      "The funding percentage for male group is: 74.7\n"
     ]
    }
   ],
   "source": [
    "for gender in df[\"borrower_genders\"].unique():\n",
    "    gender_df = df[ df[\"borrower_genders\"] == gender ]\n",
    "    print( f\"The funding percentage for {gender} group is: {funding_percentage( gender_df )}\" )"
   ]
  },
  {
   "cell_type": "markdown",
   "metadata": {},
   "source": [
    "# Finding the funding percentage for major Sectors"
   ]
  },
  {
   "cell_type": "code",
   "execution_count": 26,
   "metadata": {
    "scrolled": false
   },
   "outputs": [
    {
     "name": "stdout",
     "output_type": "stream",
     "text": [
      "The funding percentage for Food sector is: 91.2%\n",
      "The funding percentage for Retail sector is: 85.5%\n",
      "The funding percentage for Personal Use sector is: 89.4%\n",
      "The funding percentage for Agriculture sector is: 87.5%\n",
      "The funding percentage for Arts sector is: 99.7%\n",
      "The funding percentage for Housing sector is: 73.4%\n",
      "The funding percentage for Education sector is: 93.2%\n",
      "The funding percentage for Services sector is: 88.2%\n",
      "The funding percentage for Transportation sector is: 82.8%\n",
      "The funding percentage for Clothing sector is: 84.0%\n"
     ]
    }
   ],
   "source": [
    "for sector in df[\"sector\"].unique():\n",
    "    sector_df = df[ df[\"sector\"] == sector ]\n",
    "    if len(sector_df) >= 1000:\n",
    "        print( f\"The funding percentage for {sector} sector is: {funding_percentage( sector_df )}%\" )"
   ]
  },
  {
   "cell_type": "markdown",
   "metadata": {},
   "source": [
    "# Finding the funding percentage for major Activities"
   ]
  },
  {
   "cell_type": "code",
   "execution_count": 27,
   "metadata": {
    "scrolled": true
   },
   "outputs": [
    {
     "name": "stdout",
     "output_type": "stream",
     "text": [
      "The funding percentage for Retail activity is: 85.0%\n",
      "The funding percentage for Food Production/Sales activity is: 91.8%\n",
      "The funding percentage for Grocery Store activity is: 87.9%\n",
      "The funding percentage for General Store activity is: 87.3%\n",
      "The funding percentage for Home Appliances activity is: 97.7%\n",
      "The funding percentage for Farming activity is: 88.4%\n",
      "The funding percentage for Personal Housing Expenses activity is: 73.3%\n",
      "The funding percentage for Clothing Sales activity is: 81.6%\n",
      "The funding percentage for Agriculture activity is: 85.1%\n"
     ]
    }
   ],
   "source": [
    "for activity in df[\"activity\"].unique():\n",
    "    activity_df = df[ df[\"activity\"] == activity ]\n",
    "    if len(activity_df) >= 1500:\n",
    "        print( f\"The funding percentage for {activity} activity is: {funding_percentage( activity_df )}%\" )"
   ]
  },
  {
   "cell_type": "markdown",
   "metadata": {},
   "source": [
    "# Finding the funding percentage for major Repayment Intervals"
   ]
  },
  {
   "cell_type": "code",
   "execution_count": 28,
   "metadata": {
    "scrolled": false
   },
   "outputs": [
    {
     "name": "stdout",
     "output_type": "stream",
     "text": [
      "The funding percentage for irregular term is: 95.6%\n",
      "The funding percentage for monthly term is: 84.3%\n",
      "The funding percentage for bullet term is: 80.0%\n"
     ]
    }
   ],
   "source": [
    "for repayment_interval in df[\"repayment_interval\"].unique():\n",
    "    repayment_interval_df = df[ df[\"repayment_interval\"] == repayment_interval ]\n",
    "    print( f\"The funding percentage for {repayment_interval} term is: {funding_percentage( repayment_interval_df )}%\" )"
   ]
  },
  {
   "cell_type": "markdown",
   "metadata": {},
   "source": [
    "# Finding the funding percentage for major Countries"
   ]
  },
  {
   "cell_type": "code",
   "execution_count": 29,
   "metadata": {},
   "outputs": [
    {
     "name": "stdout",
     "output_type": "stream",
     "text": [
      "The funding percentage for Nicaragua is: 84.8%\n",
      "The funding percentage for Kenya is: 86.2%\n",
      "The funding percentage for Philippines is: 97.0%\n",
      "The funding percentage for Cambodia is: 95.3%\n",
      "The funding percentage for Peru is: 95.0%\n",
      "The funding percentage for El Salvador is: 68.3%\n",
      "The funding percentage for Tajikistan is: 76.0%\n"
     ]
    }
   ],
   "source": [
    "for country in df[\"country\"].unique():\n",
    "    country_df = df[ df[\"country\"] == country ]\n",
    "    if len(country_df) >= 2000:\n",
    "        print( f\"The funding percentage for {country} is: {funding_percentage( country_df )}%\" )"
   ]
  },
  {
   "cell_type": "code",
   "execution_count": 30,
   "metadata": {},
   "outputs": [],
   "source": [
    "DC = DummyClassifier(strategy=\"most_frequent\")"
   ]
  },
  {
   "cell_type": "code",
   "execution_count": 31,
   "metadata": {},
   "outputs": [],
   "source": [
    "X = pd.get_dummies(df.drop( [\"status\", \"country_code\"], axis = 1 ))\n",
    "y = df[ \"status\" ]\n",
    "\n",
    "cleanup_status = { \"funded\": 1, \"not_funded\":0 }\n",
    "\n",
    "y.replace( cleanup_status, inplace=True )"
   ]
  },
  {
   "cell_type": "code",
   "execution_count": 32,
   "metadata": {},
   "outputs": [],
   "source": [
    "X_train, X_test, y_train, y_test = train_test_split( X, y, stratify=y )"
   ]
  },
  {
   "cell_type": "code",
   "execution_count": 33,
   "metadata": {},
   "outputs": [
    {
     "data": {
      "text/plain": [
       "DummyClassifier(constant=None, random_state=None, strategy='most_frequent')"
      ]
     },
     "execution_count": 33,
     "metadata": {},
     "output_type": "execute_result"
    }
   ],
   "source": [
    "DC.fit(X_train, y_train)"
   ]
  },
  {
   "cell_type": "code",
   "execution_count": 34,
   "metadata": {},
   "outputs": [],
   "source": [
    "y_pred = DC.predict( X_test )"
   ]
  },
  {
   "cell_type": "markdown",
   "metadata": {},
   "source": [
    "### We can see below that even a Dummy Classifier is able to predict the funding status with an accuracy of 87.72% because of the imbalanced nature of our dataset."
   ]
  },
  {
   "cell_type": "code",
   "execution_count": 35,
   "metadata": {
    "scrolled": false
   },
   "outputs": [
    {
     "name": "stdout",
     "output_type": "stream",
     "text": [
      "The accuracy of the Dummy Classifier is: 87.72%\n"
     ]
    }
   ],
   "source": [
    "print(  f\"The accuracy of the Dummy Classifier is: {round(accuracy_score( y_test, y_pred ),4)*100}%\" )"
   ]
  },
  {
   "cell_type": "code",
   "execution_count": 36,
   "metadata": {
    "scrolled": false
   },
   "outputs": [
    {
     "name": "stdout",
     "output_type": "stream",
     "text": [
      "The precision of the Dummy Classifier is: 87.72%\n"
     ]
    }
   ],
   "source": [
    "print(  f\"The precision of the Dummy Classifier is: {round(precision_score( y_test, y_pred ),4)*100}%\" )"
   ]
  },
  {
   "cell_type": "code",
   "execution_count": 37,
   "metadata": {
    "scrolled": true
   },
   "outputs": [
    {
     "name": "stdout",
     "output_type": "stream",
     "text": [
      "The Confusion Matrix for the Dummy Classifier is: \n",
      "[[    0  1690]\n",
      " [    0 12076]]\n",
      "The specificity or the True Negative Rate of the Dummy Classifier is: nan%\n"
     ]
    },
    {
     "name": "stderr",
     "output_type": "stream",
     "text": [
      "/home/ranjit-kr-nair/anaconda3/lib/python3.7/site-packages/ipykernel_launcher.py:4: RuntimeWarning: invalid value encountered in long_scalars\n",
      "  after removing the cwd from sys.path.\n"
     ]
    }
   ],
   "source": [
    "matrix = confusion_matrix( y_test, y_pred )\n",
    "tn, fp, fn, tp = matrix[0,0], matrix[0,1], matrix[1,0], matrix[1,1]\n",
    "print(f\"The Confusion Matrix for the Dummy Classifier is: \\n{matrix}\")\n",
    "print(f\"The specificity or the True Negative Rate of the Dummy Classifier is: {round(tn/(tn+fn)*100,4)}%\")"
   ]
  },
  {
   "cell_type": "markdown",
   "metadata": {},
   "source": [
    "# Using K Nearest Neighbours for Classification"
   ]
  },
  {
   "cell_type": "code",
   "execution_count": 38,
   "metadata": {},
   "outputs": [],
   "source": [
    "KNN = KNeighborsClassifier()"
   ]
  },
  {
   "cell_type": "code",
   "execution_count": 39,
   "metadata": {},
   "outputs": [
    {
     "data": {
      "text/plain": [
       "KNeighborsClassifier(algorithm='auto', leaf_size=30, metric='minkowski',\n",
       "                     metric_params=None, n_jobs=None, n_neighbors=5, p=2,\n",
       "                     weights='uniform')"
      ]
     },
     "execution_count": 39,
     "metadata": {},
     "output_type": "execute_result"
    }
   ],
   "source": [
    "KNN.fit( X_train, y_train )"
   ]
  },
  {
   "cell_type": "code",
   "execution_count": 40,
   "metadata": {
    "scrolled": true
   },
   "outputs": [],
   "source": [
    "y_pred = KNN.predict( X_test )"
   ]
  },
  {
   "cell_type": "code",
   "execution_count": 41,
   "metadata": {
    "scrolled": true
   },
   "outputs": [
    {
     "name": "stdout",
     "output_type": "stream",
     "text": [
      "The accuracy of the K-Nearest Neighbors Classifier is: 92.34%\n"
     ]
    }
   ],
   "source": [
    "print(  f\"The accuracy of the K-Nearest Neighbors Classifier is: {round(accuracy_score( y_test, y_pred ),4)*100}%\" )"
   ]
  },
  {
   "cell_type": "code",
   "execution_count": 42,
   "metadata": {},
   "outputs": [
    {
     "name": "stdout",
     "output_type": "stream",
     "text": [
      "The precision of the K-Nearest Neighbors Classifier is: 95.34%\n"
     ]
    }
   ],
   "source": [
    "print(  f\"The precision of the K-Nearest Neighbors Classifier is: {round(precision_score( y_test, y_pred ),4)*100}%\" )"
   ]
  },
  {
   "cell_type": "code",
   "execution_count": 43,
   "metadata": {
    "scrolled": true
   },
   "outputs": [
    {
     "name": "stdout",
     "output_type": "stream",
     "text": [
      "The Confusion Matrix for the K-Nearest Neighbors Classifier is: \n",
      "[[ 1123   567]\n",
      " [  487 11589]]\n",
      "The specificity or the True Negative Rate of the K-Nearest Neighbors Classifier is: 69.7516%\n"
     ]
    }
   ],
   "source": [
    "matrix = confusion_matrix( y_test, y_pred )\n",
    "tn, fp, fn, tp = matrix[0,0], matrix[0,1], matrix[1,0], matrix[1,1]\n",
    "print(f\"The Confusion Matrix for the K-Nearest Neighbors Classifier is: \\n{matrix}\")\n",
    "print(f\"The specificity or the True Negative Rate of the K-Nearest Neighbors Classifier is: {round(tn/(tn+fn)*100,4)}%\")"
   ]
  },
  {
   "cell_type": "markdown",
   "metadata": {},
   "source": [
    "# Using Random Forest for Classification"
   ]
  },
  {
   "cell_type": "code",
   "execution_count": 44,
   "metadata": {},
   "outputs": [],
   "source": [
    "RF = RandomForestClassifier()"
   ]
  },
  {
   "cell_type": "code",
   "execution_count": 45,
   "metadata": {
    "scrolled": false
   },
   "outputs": [
    {
     "data": {
      "text/plain": [
       "RandomForestClassifier(bootstrap=True, ccp_alpha=0.0, class_weight=None,\n",
       "                       criterion='gini', max_depth=None, max_features='auto',\n",
       "                       max_leaf_nodes=None, max_samples=None,\n",
       "                       min_impurity_decrease=0.0, min_impurity_split=None,\n",
       "                       min_samples_leaf=1, min_samples_split=2,\n",
       "                       min_weight_fraction_leaf=0.0, n_estimators=100,\n",
       "                       n_jobs=None, oob_score=False, random_state=None,\n",
       "                       verbose=0, warm_start=False)"
      ]
     },
     "execution_count": 45,
     "metadata": {},
     "output_type": "execute_result"
    }
   ],
   "source": [
    "RF.fit(X_train, y_train)"
   ]
  },
  {
   "cell_type": "code",
   "execution_count": 46,
   "metadata": {},
   "outputs": [],
   "source": [
    "y_pred = RF.predict( X_test )"
   ]
  },
  {
   "cell_type": "markdown",
   "metadata": {},
   "source": [
    "### We can see below that our Random Forest model clearly outperforms the Dummy Classifier on all parameters except Recall which is understandable."
   ]
  },
  {
   "cell_type": "code",
   "execution_count": 47,
   "metadata": {
    "scrolled": true
   },
   "outputs": [
    {
     "name": "stdout",
     "output_type": "stream",
     "text": [
      "The accuracy of the Random Forest Classifier is: 93.76%\n"
     ]
    }
   ],
   "source": [
    "print(  f\"The accuracy of the Random Forest Classifier is: {round(accuracy_score( y_test, y_pred ),4)*100}%\" )"
   ]
  },
  {
   "cell_type": "code",
   "execution_count": 48,
   "metadata": {
    "scrolled": false
   },
   "outputs": [
    {
     "name": "stdout",
     "output_type": "stream",
     "text": [
      "The precision of the Random Forest Classifier is: 94.86%\n"
     ]
    }
   ],
   "source": [
    "print(  f\"The precision of the Random Forest Classifier is: {round(precision_score( y_test, y_pred ),4)*100}%\" )"
   ]
  },
  {
   "cell_type": "code",
   "execution_count": 49,
   "metadata": {
    "scrolled": true
   },
   "outputs": [
    {
     "name": "stdout",
     "output_type": "stream",
     "text": [
      "The Confusion Matrix for the Random Forest Classifier is: \n",
      "[[ 1048   642]\n",
      " [  217 11859]]\n",
      "The specificity or the True Negative Rate of the Random Forest Classifier is: 82.8458%\n"
     ]
    }
   ],
   "source": [
    "matrix = confusion_matrix( y_test, y_pred )\n",
    "tn, fp, fn, tp = matrix[0,0], matrix[0,1], matrix[1,0], matrix[1,1]\n",
    "print(f\"The Confusion Matrix for the Random Forest Classifier is: \\n{matrix}\")\n",
    "print(f\"The specificity or the True Negative Rate of the Random Forest Classifier is: {round(tn/(tn+fn)*100,4)}%\")"
   ]
  },
  {
   "cell_type": "markdown",
   "metadata": {},
   "source": [
    "# Now using Random Forest by generating Synthetic Samples from the minority Class."
   ]
  },
  {
   "cell_type": "code",
   "execution_count": 50,
   "metadata": {},
   "outputs": [],
   "source": [
    "X_train, X_test, y_train, y_test = train_test_split( X, y, stratify=y )"
   ]
  },
  {
   "cell_type": "code",
   "execution_count": 51,
   "metadata": {},
   "outputs": [],
   "source": [
    "sm = SMOTE()\n",
    "\n",
    "X_train, y_train = sm.fit_sample( X_train, y_train )"
   ]
  },
  {
   "cell_type": "code",
   "execution_count": 52,
   "metadata": {},
   "outputs": [],
   "source": [
    "sm_RF = RandomForestClassifier()"
   ]
  },
  {
   "cell_type": "code",
   "execution_count": 53,
   "metadata": {
    "scrolled": true
   },
   "outputs": [
    {
     "data": {
      "text/plain": [
       "RandomForestClassifier(bootstrap=True, ccp_alpha=0.0, class_weight=None,\n",
       "                       criterion='gini', max_depth=None, max_features='auto',\n",
       "                       max_leaf_nodes=None, max_samples=None,\n",
       "                       min_impurity_decrease=0.0, min_impurity_split=None,\n",
       "                       min_samples_leaf=1, min_samples_split=2,\n",
       "                       min_weight_fraction_leaf=0.0, n_estimators=100,\n",
       "                       n_jobs=None, oob_score=False, random_state=None,\n",
       "                       verbose=0, warm_start=False)"
      ]
     },
     "execution_count": 53,
     "metadata": {},
     "output_type": "execute_result"
    }
   ],
   "source": [
    "sm_RF.fit(X_train, y_train)"
   ]
  },
  {
   "cell_type": "code",
   "execution_count": 54,
   "metadata": {},
   "outputs": [],
   "source": [
    "y_pred = RF.predict( X_test )"
   ]
  },
  {
   "cell_type": "markdown",
   "metadata": {},
   "source": [
    "### SMOTE + Random Forest"
   ]
  },
  {
   "cell_type": "code",
   "execution_count": 55,
   "metadata": {
    "scrolled": true
   },
   "outputs": [
    {
     "name": "stdout",
     "output_type": "stream",
     "text": [
      "The accuracy of Random Forest combined with SMOTE is: 98.37%\n"
     ]
    }
   ],
   "source": [
    "print(  f\"The accuracy of Random Forest combined with SMOTE is: {round(accuracy_score( y_test, y_pred ),4)*100}%\" )"
   ]
  },
  {
   "cell_type": "code",
   "execution_count": 56,
   "metadata": {
    "scrolled": false
   },
   "outputs": [],
   "source": [
    "matrix = confusion_matrix( y_test, y_pred )\n",
    "tn, fn, fp, tp = matrix[0,0], matrix[0,1], matrix[1,0], matrix[1,1]"
   ]
  },
  {
   "cell_type": "code",
   "execution_count": 57,
   "metadata": {
    "scrolled": false
   },
   "outputs": [
    {
     "name": "stdout",
     "output_type": "stream",
     "text": [
      "The precision of the Random Forest Classifier combined with SMOTE is: 98.71%\n"
     ]
    }
   ],
   "source": [
    "print(  f\"The precision of the Random Forest Classifier combined with SMOTE is: {round(precision_score( y_test, y_pred ),4)*100}%\" )"
   ]
  },
  {
   "cell_type": "code",
   "execution_count": 58,
   "metadata": {
    "scrolled": true
   },
   "outputs": [
    {
     "name": "stdout",
     "output_type": "stream",
     "text": [
      "The Confusion Matrix for the Random Forest Classifier combined with SMOTE is: \n",
      "[[ 1533   157]\n",
      " [   67 12009]]\n",
      "The specificity or the True Negative Rate of the Random Forest Classifier combined with SMOTE is: 95.8125%\n"
     ]
    }
   ],
   "source": [
    "matrix = confusion_matrix( y_test, y_pred )\n",
    "tn, fp, fn, tp = matrix[0,0], matrix[0,1], matrix[1,0], matrix[1,1]\n",
    "print(f\"The Confusion Matrix for the Random Forest Classifier combined with SMOTE is: \\n{matrix}\")\n",
    "print(f\"The specificity or the True Negative Rate of the Random Forest Classifier combined with SMOTE is: {round(tn/(tn+fn)*100,4)}%\")"
   ]
  }
 ],
 "metadata": {
  "kernelspec": {
   "display_name": "Python 3",
   "language": "python",
   "name": "python3"
  },
  "language_info": {
   "codemirror_mode": {
    "name": "ipython",
    "version": 3
   },
   "file_extension": ".py",
   "mimetype": "text/x-python",
   "name": "python",
   "nbconvert_exporter": "python",
   "pygments_lexer": "ipython3",
   "version": "3.7.6"
  }
 },
 "nbformat": 4,
 "nbformat_minor": 2
}
